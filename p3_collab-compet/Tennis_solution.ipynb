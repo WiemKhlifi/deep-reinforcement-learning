{
 "cells": [
  {
   "cell_type": "markdown",
   "metadata": {},
   "source": [
    "# Collaboration and Competition\n",
    "\n",
    "---\n",
    "\n",
    "## Importing Libraries"
   ]
  },
  {
   "cell_type": "code",
   "execution_count": 5,
   "metadata": {},
   "outputs": [],
   "source": [
    "from unityagents import UnityEnvironment\n",
    "import numpy as np\n",
    "import torch\n",
    "from maddpg_agent import MaddpgAgent\n",
    "from collections import deque\n",
    "\n",
    "\n",
    "import matplotlib.pyplot as plt\n",
    "device = torch.device(\"cuda:0\" if torch.cuda.is_available() else \"cpu\")"
   ]
  },
  {
   "cell_type": "markdown",
   "metadata": {},
   "source": [
    "### 1. Start the Environment"
   ]
  },
  {
   "cell_type": "code",
   "execution_count": 2,
   "metadata": {},
   "outputs": [
    {
     "name": "stderr",
     "output_type": "stream",
     "text": [
      "INFO:unityagents:\n",
      "'Academy' started successfully!\n",
      "Unity Academy name: Academy\n",
      "        Number of Brains: 1\n",
      "        Number of External Brains : 1\n",
      "        Lesson number : 0\n",
      "        Reset Parameters :\n",
      "\t\t\n",
      "Unity brain name: TennisBrain\n",
      "        Number of Visual Observations (per agent): 0\n",
      "        Vector Observation space type: continuous\n",
      "        Vector Observation space size (per agent): 8\n",
      "        Number of stacked Vector Observation: 3\n",
      "        Vector Action space type: continuous\n",
      "        Vector Action space size (per agent): 2\n",
      "        Vector Action descriptions: , \n"
     ]
    }
   ],
   "source": [
    "# env = UnityEnvironment(file_name=\"Tennis_Windows_x86_64\\Tennis.exe\")\n",
    "env = UnityEnvironment(file_name=\"/mnt/store_data/deep-reinforcement-learning/p3_collab-compet/Tennis_Linux/Tennis.x86_64\")"
   ]
  },
  {
   "cell_type": "markdown",
   "metadata": {},
   "source": [
    "Environments contain **_brains_** which are responsible for deciding the actions of their associated agents. Here we check for the first brain available, and set it as the default brain we will be controlling from Python."
   ]
  },
  {
   "cell_type": "code",
   "execution_count": 3,
   "metadata": {},
   "outputs": [],
   "source": [
    "# get the default brain\n",
    "brain_name = env.brain_names[0]\n",
    "brain = env.brains[brain_name]"
   ]
  },
  {
   "cell_type": "markdown",
   "metadata": {},
   "source": [
    "### 2. Examine the State and Action Spaces\n",
    "\n",
    "In this environment, two agents control rackets to bounce a ball over a net. If an agent hits the ball over the net, it receives a reward of +0.1.  If an agent lets a ball hit the ground or hits the ball out of bounds, it receives a reward of -0.01.  Thus, the goal of each agent is to keep the ball in play.\n",
    "\n",
    "The observation space consists of 8 variables corresponding to the position and velocity of the ball and racket. Two continuous actions are available, corresponding to movement toward (or away from) the net, and jumping. \n",
    "\n",
    "Run the code cell below to print some information about the environment."
   ]
  },
  {
   "cell_type": "code",
   "execution_count": 4,
   "metadata": {},
   "outputs": [
    {
     "name": "stdout",
     "output_type": "stream",
     "text": [
      "Number of agents: 2\n",
      "Size of each action: 2\n",
      "There are 2 agents. Each observes a state with length: 24\n",
      "The state for the first agent looks like: [ 0.          0.          0.          0.          0.          0.\n",
      "  0.          0.          0.          0.          0.          0.\n",
      "  0.          0.          0.          0.         -6.65278625 -1.5\n",
      " -0.          0.          6.83172083  6.         -0.          0.        ]\n"
     ]
    },
    {
     "data": {
      "text/plain": [
       "(2, 24)"
      ]
     },
     "execution_count": 4,
     "metadata": {},
     "output_type": "execute_result"
    }
   ],
   "source": [
    "# reset the environment\n",
    "env_info = env.reset(train_mode=True)[brain_name]\n",
    "\n",
    "# number of agents \n",
    "num_agents = len(env_info.agents)\n",
    "print('Number of agents:', num_agents)\n",
    "\n",
    "# size of each action\n",
    "action_size = brain.vector_action_space_size\n",
    "print('Size of each action:', action_size)\n",
    "\n",
    "# examine the state space \n",
    "states = env_info.vector_observations\n",
    "state_size = states.shape[1]\n",
    "print('There are {} agents. Each observes a state with length: {}'.format(states.shape[0], state_size))\n",
    "print('The state for the first agent looks like:', states[0])\n",
    "states.shape"
   ]
  },
  {
   "attachments": {},
   "cell_type": "markdown",
   "metadata": {},
   "source": [
    "### 5. Train MaddpgAgent Agent:"
   ]
  },
  {
   "cell_type": "code",
   "execution_count": 7,
   "metadata": {},
   "outputs": [],
   "source": [
    "random_seed = 42\n",
    "agent = MaddpgAgent(state_size=state_size, action_size=action_size,random_seed=random_seed, n_agents=num_agents)"
   ]
  },
  {
   "attachments": {},
   "cell_type": "markdown",
   "metadata": {},
   "source": [
    "### 6. Define algorithm"
   ]
  },
  {
   "cell_type": "code",
   "execution_count": 10,
   "metadata": {},
   "outputs": [],
   "source": [
    "def maddpg(agent, env, max_t=1000, window_size=100, score_threshold=1, print_interval=100, episodes=5000):\n",
    "    \n",
    "    # Initialize deque to store episode scores\n",
    "    scores_deque = deque(maxlen=window_size) \n",
    "    # Initialize deque to store local episode scores\n",
    "    local_scores_deque = deque(maxlen=window_size//2)\n",
    "    # Initialize list to store all episode scores\n",
    "    scores = []\n",
    "    # Initialize the previous average score\n",
    "    old_average_score = 0    \n",
    "    \n",
    "    # Print a message indicating the start of training\n",
    "    print(\"Training on {} started...\".format(agent.device))\n",
    "    \n",
    "    # Loop through the specified number of episodes\n",
    "    for i_episode in range(1, episodes+1):\n",
    "        # Reset the environment and obtain initial state information\n",
    "        env_info = env.reset(train_mode=True)[brain_name]\n",
    "        states = env_info.vector_observations\n",
    "        agent.reset()\n",
    "        # Initialize episode scores\n",
    "        episode_scores = np.zeros(num_agents) \n",
    "        \n",
    "        # Loop through the maximum number of time steps per episode\n",
    "        for _ in range(max_t):\n",
    "            # Select actions for the current states\n",
    "            actions = agent.act(states)\n",
    "            # Send the actions to the environment and receive the next states, rewards, and done information\n",
    "            env_info = env.step(actions)[brain_name]\n",
    "            next_states = env_info.vector_observations\n",
    "            rewards = env_info.rewards\n",
    "            dones = env_info.local_done\n",
    "\n",
    "            # Update the agent based on the observed states, actions, rewards, and next states\n",
    "            agent.step(states=states, actions=actions, rewards=[reward*10 if reward <0 else reward  for reward in rewards], next_states=next_states, dones=dones)\n",
    "            # Update the episode scores\n",
    "            episode_scores += np.array(rewards)\n",
    "            states = next_states\n",
    "            # Break if any agent is done\n",
    "            if np.any(dones):\n",
    "                break\n",
    "\n",
    "        # Calculate the maximum score for the episode\n",
    "        episode_score = np.max(episode_scores) \n",
    "        # Append the episode score to the scores deque\n",
    "        scores_deque.append(episode_score)\n",
    "        # Append the episode score to the local scores deque\n",
    "        local_scores_deque.append(episode_score)\n",
    "        # Append the episode score to the scores list\n",
    "        scores.append(episode_score)\n",
    "        # Calculate the average score\n",
    "        average_score = np.mean(scores_deque)\n",
    "        # Calculate the local average score\n",
    "        max_local_score= np.mean(local_scores_deque)\n",
    "\n",
    "        # Print the episode number, average score, local average score, current score, and all episode scores at specified intervals\n",
    "        if i_episode % (print_interval//2) == 0:\n",
    "            print('\\rEpisode: {}\\tAverage Score: {:.3f}\\tlocal average Score: {:.3f}\\tCurrent Score: {:.3f}\\tScores : {:.3f} {:.3f}'.format(i_episode, average_score,max_local_score, episode_score , *episode_scores))\n",
    "       \n",
    "        # Save the agent's state to checkpoint files if the average score exceeds the previous average score by 5 or more\n",
    "        if average_score > score_threshold/2:\n",
    "            torch.save(agent.actor_local.state_dict(), 'checkpoint_actor_2_agents.pth')\n",
    "            torch.save(agent.critic_local.state_dict(), 'checkpoint_critic_2_agents.pth')\n",
    "        \n",
    "        # Check if the score threshold is reached and print a message if so, then save the agent's state to a checkpoint file\n",
    "        if average_score >= score_threshold:\n",
    "            print('\\nEnvironment solved in {} episodes!\\tAverage Score: {:.3f}'.format(i_episode-window_size, average_score))\n",
    "            torch.save(agent.actor_local.state_dict(), 'checkpoint_actor_2_agents.pth')\n",
    "            torch.save(agent.critic_local.state_dict(), 'checkpoint_critic_2_agents.pth')\n",
    "            break\n",
    "    \n",
    "    # Save the scores to a numpy file\n",
    "    np.save('maddpg_scores.npy', scores)\n",
    "    # Return the scores\n",
    "    return scores"
   ]
  },
  {
   "attachments": {},
   "cell_type": "markdown",
   "metadata": {},
   "source": [
    "#### Run training"
   ]
  },
  {
   "cell_type": "code",
   "execution_count": 11,
   "metadata": {},
   "outputs": [
    {
     "name": "stdout",
     "output_type": "stream",
     "text": [
      "Training on cuda:0 started...\n",
      "Episode: 50\tAverage Score: 0.000\tlocal average Score: 0.000\tCurrent Score: 0.000\tScores : 0.000 -0.010\n",
      "Episode: 100\tAverage Score: 0.000\tlocal average Score: 0.000\tCurrent Score: 0.000\tScores : -0.010 0.000\n",
      "Episode: 150\tAverage Score: 0.000\tlocal average Score: 0.000\tCurrent Score: 0.000\tScores : -0.010 0.000\n",
      "Episode: 200\tAverage Score: 0.000\tlocal average Score: 0.000\tCurrent Score: 0.000\tScores : 0.000 -0.010\n",
      "Episode: 250\tAverage Score: 0.000\tlocal average Score: 0.000\tCurrent Score: 0.000\tScores : 0.000 -0.010\n",
      "Episode: 300\tAverage Score: 0.000\tlocal average Score: 0.000\tCurrent Score: 0.000\tScores : -0.010 0.000\n",
      "Episode: 350\tAverage Score: 0.000\tlocal average Score: 0.000\tCurrent Score: 0.000\tScores : -0.010 0.000\n",
      "Episode: 400\tAverage Score: 0.000\tlocal average Score: 0.000\tCurrent Score: 0.000\tScores : 0.000 -0.010\n",
      "Episode: 450\tAverage Score: 0.000\tlocal average Score: 0.000\tCurrent Score: 0.000\tScores : 0.000 -0.010\n",
      "Episode: 500\tAverage Score: 0.000\tlocal average Score: 0.000\tCurrent Score: 0.000\tScores : 0.000 -0.010\n",
      "Episode: 550\tAverage Score: 0.000\tlocal average Score: 0.000\tCurrent Score: 0.000\tScores : -0.010 0.000\n",
      "Episode: 600\tAverage Score: 0.000\tlocal average Score: 0.000\tCurrent Score: 0.000\tScores : 0.000 -0.010\n",
      "Episode: 650\tAverage Score: 0.000\tlocal average Score: 0.000\tCurrent Score: 0.000\tScores : 0.000 -0.010\n",
      "Episode: 700\tAverage Score: 0.000\tlocal average Score: 0.000\tCurrent Score: 0.000\tScores : -0.010 0.000\n",
      "Episode: 750\tAverage Score: 0.000\tlocal average Score: 0.000\tCurrent Score: 0.000\tScores : 0.000 -0.010\n",
      "Episode: 800\tAverage Score: 0.000\tlocal average Score: 0.000\tCurrent Score: 0.000\tScores : 0.000 -0.010\n",
      "Episode: 850\tAverage Score: 0.000\tlocal average Score: 0.000\tCurrent Score: 0.000\tScores : -0.010 0.000\n",
      "Episode: 900\tAverage Score: 0.000\tlocal average Score: 0.000\tCurrent Score: 0.000\tScores : 0.000 -0.010\n",
      "Episode: 950\tAverage Score: 0.000\tlocal average Score: 0.000\tCurrent Score: 0.000\tScores : 0.000 -0.010\n",
      "Episode: 1000\tAverage Score: 0.000\tlocal average Score: 0.000\tCurrent Score: 0.000\tScores : -0.010 0.000\n",
      "Episode: 1050\tAverage Score: 0.000\tlocal average Score: 0.000\tCurrent Score: 0.000\tScores : -0.010 0.000\n",
      "Episode: 1100\tAverage Score: 0.000\tlocal average Score: 0.000\tCurrent Score: 0.000\tScores : -0.010 0.000\n",
      "Episode: 1150\tAverage Score: 0.000\tlocal average Score: 0.000\tCurrent Score: 0.000\tScores : -0.010 0.000\n",
      "Episode: 1200\tAverage Score: 0.000\tlocal average Score: 0.000\tCurrent Score: 0.000\tScores : 0.000 -0.010\n",
      "Episode: 1250\tAverage Score: 0.000\tlocal average Score: 0.000\tCurrent Score: 0.000\tScores : -0.010 0.000\n",
      "Episode: 1300\tAverage Score: 0.000\tlocal average Score: 0.000\tCurrent Score: 0.000\tScores : 0.000 -0.010\n",
      "Episode: 1350\tAverage Score: 0.000\tlocal average Score: 0.000\tCurrent Score: 0.000\tScores : 0.000 -0.010\n",
      "Episode: 1400\tAverage Score: 0.000\tlocal average Score: 0.000\tCurrent Score: 0.000\tScores : 0.000 -0.010\n",
      "Episode: 1450\tAverage Score: 0.000\tlocal average Score: 0.000\tCurrent Score: 0.000\tScores : 0.000 -0.010\n",
      "Episode: 1500\tAverage Score: 0.000\tlocal average Score: 0.000\tCurrent Score: 0.000\tScores : 0.000 -0.010\n",
      "Episode: 1550\tAverage Score: 0.000\tlocal average Score: 0.000\tCurrent Score: 0.000\tScores : -0.010 0.000\n",
      "Episode: 1600\tAverage Score: 0.000\tlocal average Score: 0.000\tCurrent Score: 0.000\tScores : 0.000 -0.010\n",
      "Episode: 1650\tAverage Score: 0.000\tlocal average Score: 0.000\tCurrent Score: 0.000\tScores : -0.010 0.000\n",
      "Episode: 1700\tAverage Score: 0.000\tlocal average Score: 0.000\tCurrent Score: 0.000\tScores : 0.000 -0.010\n",
      "Episode: 1750\tAverage Score: 0.000\tlocal average Score: 0.000\tCurrent Score: 0.000\tScores : -0.010 0.000\n",
      "Episode: 1800\tAverage Score: 0.000\tlocal average Score: 0.000\tCurrent Score: 0.000\tScores : -0.010 0.000\n",
      "Episode: 1850\tAverage Score: 0.000\tlocal average Score: 0.000\tCurrent Score: 0.000\tScores : -0.010 0.000\n",
      "Episode: 1900\tAverage Score: 0.000\tlocal average Score: 0.000\tCurrent Score: 0.000\tScores : 0.000 -0.010\n",
      "Episode: 1950\tAverage Score: 0.000\tlocal average Score: 0.000\tCurrent Score: 0.000\tScores : -0.010 0.000\n",
      "Episode: 2000\tAverage Score: 0.000\tlocal average Score: 0.000\tCurrent Score: 0.000\tScores : 0.000 -0.010\n",
      "Episode: 2050\tAverage Score: 0.000\tlocal average Score: 0.000\tCurrent Score: 0.000\tScores : 0.000 -0.010\n",
      "Episode: 2100\tAverage Score: 0.000\tlocal average Score: 0.000\tCurrent Score: 0.000\tScores : -0.010 0.000\n",
      "Episode: 2150\tAverage Score: 0.000\tlocal average Score: 0.000\tCurrent Score: 0.000\tScores : -0.010 0.000\n",
      "Episode: 2200\tAverage Score: 0.000\tlocal average Score: 0.000\tCurrent Score: 0.000\tScores : -0.010 0.000\n",
      "Episode: 2250\tAverage Score: 0.000\tlocal average Score: 0.000\tCurrent Score: 0.000\tScores : 0.000 -0.010\n",
      "Episode: 2300\tAverage Score: 0.000\tlocal average Score: 0.000\tCurrent Score: 0.000\tScores : 0.000 -0.010\n",
      "Episode: 2350\tAverage Score: 0.000\tlocal average Score: 0.000\tCurrent Score: 0.000\tScores : 0.000 -0.010\n",
      "Episode: 2400\tAverage Score: 0.000\tlocal average Score: 0.000\tCurrent Score: 0.000\tScores : -0.010 0.000\n",
      "Episode: 2450\tAverage Score: 0.000\tlocal average Score: 0.000\tCurrent Score: 0.000\tScores : -0.010 0.000\n",
      "Episode: 2500\tAverage Score: 0.001\tlocal average Score: 0.002\tCurrent Score: 0.000\tScores : -0.010 0.000\n",
      "Episode: 2550\tAverage Score: 0.001\tlocal average Score: 0.000\tCurrent Score: 0.000\tScores : 0.000 -0.010\n",
      "Episode: 2600\tAverage Score: 0.000\tlocal average Score: 0.000\tCurrent Score: 0.000\tScores : -0.010 0.000\n",
      "Episode: 2650\tAverage Score: 0.000\tlocal average Score: 0.000\tCurrent Score: 0.000\tScores : -0.010 0.000\n",
      "Episode: 2700\tAverage Score: 0.000\tlocal average Score: 0.000\tCurrent Score: 0.000\tScores : 0.000 -0.010\n",
      "Episode: 2750\tAverage Score: 0.000\tlocal average Score: 0.000\tCurrent Score: 0.000\tScores : -0.010 0.000\n"
     ]
    }
   ],
   "source": [
    "scores = maddpg(agent, env, max_t=1000, window_size=100, score_threshold=1, print_interval=100, episodes=5000)"
   ]
  },
  {
   "attachments": {},
   "cell_type": "markdown",
   "metadata": {},
   "source": [
    "### 7. Plot results"
   ]
  },
  {
   "cell_type": "code",
   "execution_count": null,
   "metadata": {},
   "outputs": [
    {
     "data": {
      "image/png": "[encoded data removed]",
      "text/plain": [
       "<Figure size 432x288 with 1 Axes>"
      ]
     },
     "metadata": {
      "needs_background": "light"
     },
     "output_type": "display_data"
    }
   ],
   "source": [
    "f = plt.figure()\n",
    "ax = f.add_subplot(111)\n",
    "plt.plot(range(1, len(scores) + 1), scores)\n",
    "plt.xlabel('# Episodes')\n",
    "plt.ylabel('Scores')\n",
    "plt.savefig('maddpg_scores_plot_curve.png')\n",
    "plt.show()"
   ]
  },
  {
   "attachments": {},
   "cell_type": "markdown",
   "metadata": {},
   "source": [
    "### 7. Run Inference mode"
   ]
  },
  {
   "cell_type": "code",
   "execution_count": null,
   "metadata": {},
   "outputs": [
    {
     "data": {
      "text/plain": [
       "<All keys matched successfully>"
      ]
     },
     "execution_count": 12,
     "metadata": {},
     "output_type": "execute_result"
    }
   ],
   "source": [
    "agent = MaddpgAgent(state_size=state_size, action_size=action_size,random_seed=0)\n",
    "agent.actor_local.load_state_dict(torch.load('checkpoint_actor_2_agents.pth'))\n",
    "agent.critic_local.load_state_dict(torch.load('checkpoint_critic_2_agents.pth'))"
   ]
  },
  {
   "cell_type": "code",
   "execution_count": 13,
   "metadata": {},
   "outputs": [
    {
     "name": "stdout",
     "output_type": "stream",
     "text": [
      "Score: 2.650000039488077\n"
     ]
    }
   ],
   "source": [
    "env_info = env.reset(train_mode=False)[brain_name]     # reset the environment    \n",
    "states = env_info.vector_observations                  # get the current state (for each agent)\n",
    "scores = np.zeros(num_agents)                          # initialize the score (for each agent)\n",
    "step = 0\n",
    "while step<1000:\n",
    "    step+=1\n",
    "    actions = agent.act(states)                      # select an action\n",
    "    env_info = env.step(actions)[brain_name]\n",
    "    next_states = env_info.vector_observations\n",
    "    rewards = env_info.rewards\n",
    "    dones = env_info.local_done\n",
    "    rewards = env_info.rewards                   # get the reward\n",
    "    done = env_info.local_done                  # see if episode has finished\n",
    "    scores += rewards                                # update the score\n",
    "    states = next_states                             # roll over the state to next time step\n",
    "    if np.any(dones):\n",
    "        break\n",
    "    \n",
    "print(\"Score: {}\".format(np.mean(scores)))"
   ]
  },
  {
   "cell_type": "code",
   "execution_count": 14,
   "metadata": {},
   "outputs": [],
   "source": [
    "env.close()"
   ]
  },
  {
   "cell_type": "code",
   "execution_count": null,
   "metadata": {},
   "outputs": [],
   "source": []
  }
 ],
 "metadata": {
  "kernelspec": {
   "display_name": "drlnd",
   "language": "python",
   "name": "python3"
  },
  "language_info": {
   "codemirror_mode": {
    "name": "ipython",
    "version": 3
   },
   "file_extension": ".py",
   "mimetype": "text/x-python",
   "name": "python",
   "nbconvert_exporter": "python",
   "pygments_lexer": "ipython3",
   "version": "3.6.15"
  },
  "vscode": {
   "interpreter": {
    "hash": "39e381cf46b1f55053a25401b9ec0a7bf444799a815663fc9f4e7190e64d6089"
   }
  }
 },
 "nbformat": 4,
 "nbformat_minor": 2
}
