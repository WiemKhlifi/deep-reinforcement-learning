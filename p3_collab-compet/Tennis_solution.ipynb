{
 "cells": [
  {
   "cell_type": "markdown",
   "metadata": {},
   "source": [
    "# Collaboration and Competition\n",
    "\n",
    "---\n",
    "## Importing Libraries"
   ]
  },
  {
   "cell_type": "code",
   "execution_count": 1,
   "metadata": {},
   "outputs": [
    {
     "data": {
      "text/plain": [
       "True"
      ]
     },
     "execution_count": 1,
     "metadata": {},
     "output_type": "execute_result"
    }
   ],
   "source": [
    "from unityagents import UnityEnvironment\n",
    "import numpy as np\n",
    "import torch\n",
    "from maddpg_agent import MaddpgAgent\n",
    "from collections import deque\n",
    "\n",
    "\n",
    "import matplotlib.pyplot as plt\n",
    "device = torch.device(\"cuda:0\" if torch.cuda.is_available() else \"cpu\")"
   ]
  },
  {
   "cell_type": "markdown",
   "metadata": {},
   "source": [
    "### 1. Start the Environment\n"
   ]
  },
  {
   "cell_type": "code",
   "execution_count": 2,
   "metadata": {},
   "outputs": [
    {
     "name": "stderr",
     "output_type": "stream",
     "text": [
      "INFO:unityagents:\n",
      "'Academy' started successfully!\n",
      "Unity Academy name: Academy\n",
      "        Number of Brains: 1\n",
      "        Number of External Brains : 1\n",
      "        Lesson number : 0\n",
      "        Reset Parameters :\n",
      "\t\t\n",
      "Unity brain name: TennisBrain\n",
      "        Number of Visual Observations (per agent): 0\n",
      "        Vector Observation space type: continuous\n",
      "        Vector Observation space size (per agent): 8\n",
      "        Number of stacked Vector Observation: 3\n",
      "        Vector Action space type: continuous\n",
      "        Vector Action space size (per agent): 2\n",
      "        Vector Action descriptions: , \n"
     ]
    }
   ],
   "source": [
    "env = UnityEnvironment(file_name=\"Tennis_Windows_x86_64\\Tennis.exe\")"
   ]
  },
  {
   "cell_type": "markdown",
   "metadata": {},
   "source": [
    "Environments contain **_brains_** which are responsible for deciding the actions of their associated agents. Here we check for the first brain available, and set it as the default brain we will be controlling from Python."
   ]
  },
  {
   "cell_type": "code",
   "execution_count": 3,
   "metadata": {},
   "outputs": [],
   "source": [
    "# get the default brain\n",
    "brain_name = env.brain_names[0]\n",
    "brain = env.brains[brain_name]"
   ]
  },
  {
   "cell_type": "markdown",
   "metadata": {},
   "source": [
    "### 2. Examine the State and Action Spaces\n",
    "\n",
    "In this environment, two agents control rackets to bounce a ball over a net. If an agent hits the ball over the net, it receives a reward of +0.1.  If an agent lets a ball hit the ground or hits the ball out of bounds, it receives a reward of -0.01.  Thus, the goal of each agent is to keep the ball in play.\n",
    "\n",
    "The observation space consists of 8 variables corresponding to the position and velocity of the ball and racket. Two continuous actions are available, corresponding to movement toward (or away from) the net, and jumping. \n",
    "\n",
    "Run the code cell below to print some information about the environment."
   ]
  },
  {
   "cell_type": "code",
   "execution_count": 4,
   "metadata": {},
   "outputs": [
    {
     "name": "stdout",
     "output_type": "stream",
     "text": [
      "Number of agents: 2\n",
      "Size of each action: 2\n",
      "There are 2 agents. Each observes a state with length: 24\n",
      "The state for the first agent looks like: [ 0.          0.          0.          0.          0.          0.\n",
      "  0.          0.          0.          0.          0.          0.\n",
      "  0.          0.          0.          0.         -6.65278625 -1.5\n",
      " -0.          0.          6.83172083  6.         -0.          0.        ]\n"
     ]
    },
    {
     "data": {
      "text/plain": [
       "(2, 24)"
      ]
     },
     "execution_count": 4,
     "metadata": {},
     "output_type": "execute_result"
    }
   ],
   "source": [
    "# reset the environment\n",
    "env_info = env.reset(train_mode=True)[brain_name]\n",
    "\n",
    "# number of agents \n",
    "num_agents = len(env_info.agents)\n",
    "print('Number of agents:', num_agents)\n",
    "\n",
    "# size of each action\n",
    "action_size = brain.vector_action_space_size\n",
    "print('Size of each action:', action_size)\n",
    "\n",
    "# examine the state space \n",
    "states = env_info.vector_observations\n",
    "state_size = states.shape[1]\n",
    "print('There are {} agents. Each observes a state with length: {}'.format(states.shape[0], state_size))\n",
    "print('The state for the first agent looks like:', states[0])\n",
    "states.shape"
   ]
  },
  {
   "attachments": {},
   "cell_type": "markdown",
   "metadata": {},
   "source": [
    "### 3. Train MaddpgAgent Agent:"
   ]
  },
  {
   "cell_type": "code",
   "execution_count": 6,
   "metadata": {},
   "outputs": [],
   "source": [
    "seed = 0\n",
    "agent = MaddpgAgent(state_size=state_size, action_size=action_size, seed=seed, n_agents=num_agents)"
   ]
  },
  {
   "cell_type": "code",
   "execution_count": 9,
   "metadata": {},
   "outputs": [],
   "source": [
    "def maddpg(agent, env, max_t=1000, window_size=100, score_threshold=0.5, print_interval=100, episodes=5000):\n",
    "    \n",
    "    # Initialize deque to store episode scores\n",
    "    scores_deque = deque(maxlen=window_size) \n",
    "    # Initialize list to store all episode scores\n",
    "    scores = []  \n",
    "    \n",
    "    # Print a message indicating the start of training\n",
    "    print(\"Training on {} started...\".format(agent.device))\n",
    "    \n",
    "    # Loop through the specified number of episodes\n",
    "    for i_episode in range(1, episodes+1):\n",
    "        # Reset the environment and obtain initial state information\n",
    "        env_info = env.reset(train_mode=True)[brain_name]\n",
    "        states = env_info.vector_observations\n",
    "        agent.reset()\n",
    "        # Initialize episode scores\n",
    "        episode_scores = np.zeros(num_agents) \n",
    "        \n",
    "        # Loop through the maximum number of time steps per episode\n",
    "        for _ in range(max_t):\n",
    "            # Select actions for the current states\n",
    "            actions = agent.act(states)\n",
    "            # Send the actions to the environment and receive the next states, rewards, and done information\n",
    "            env_info = env.step(actions)[brain_name]\n",
    "            next_states = env_info.vector_observations\n",
    "            rewards = env_info.rewards\n",
    "            dones = env_info.local_done\n",
    "\n",
    "            # Update the agent based on the observed states, actions, rewards, and next states\n",
    "            #agent.step(states=states, actions=actions, rewards=rewards, next_states=next_states, dones=dones)\n",
    "            agent.step(states=states, actions=actions, rewards=[reward*110 if reward <0 else reward  for reward in rewards], next_states=next_states, dones=dones)\n",
    "            episode_scores += np.array(rewards)\n",
    "            states = next_states\n",
    "            # Break if any agent is done\n",
    "            if np.any(dones):\n",
    "                break\n",
    "\n",
    "        # Calculate the maximum score for the episode\n",
    "        episode_score = np.max(episode_scores) \n",
    "        # Append the episode score to the scores deque\n",
    "        scores_deque.append(episode_score)\n",
    "        # Append the episode score to the scores list\n",
    "        scores.append(episode_score)\n",
    "        # Calculate the average score\n",
    "        average_score = np.mean(scores_deque)\n",
    "\n",
    "        # Print the episode number, average score, local average score, current score, and all episode scores at specified intervals\n",
    "        if i_episode % print_interval == 0:\n",
    "            print('\\rEpisode: {}\\tAverage Score: {:.3f}\\tCurrent Score: {:.3f}\\tScores : {:.3f} {:.3f}'.format(i_episode, average_score, episode_score , *episode_scores))\n",
    "        \n",
    "        # Check if the score threshold is reached and print a message if so, then save the agent's state to a checkpoint file\n",
    "        if average_score >= score_threshold:\n",
    "            print('\\nEnvironment solved in {} episodes!\\tAverage Score: {:.3f}'.format(i_episode-window_size, average_score))\n",
    "            torch.save(agent.actor_local.state_dict(), 'checkpoint_actor_2_agents.pth')\n",
    "            torch.save(agent.critic_local.state_dict(), 'checkpoint_critic_2_agents.pth')\n",
    "            break\n",
    "    \n",
    "    # Save the scores to a numpy file\n",
    "    np.save('maddpg_scores.npy', scores)\n",
    "    # Return the scores\n",
    "    return scores"
   ]
  },
  {
   "attachments": {},
   "cell_type": "markdown",
   "metadata": {},
   "source": [
    "#### Run training"
   ]
  },
  {
   "cell_type": "code",
   "execution_count": 10,
   "metadata": {},
   "outputs": [
    {
     "name": "stdout",
     "output_type": "stream",
     "text": [
      "Training on cuda:0 started...\n",
      "Episode: 50\tAverage Score: 0.002\tlocal average Score: 0.002\tCurrent Score: 0.000\tScores : -0.010 0.000\n",
      "Episode: 100\tAverage Score: 0.001\tlocal average Score: 0.000\tCurrent Score: 0.000\tScores : 0.000 -0.010\n",
      "Episode: 150\tAverage Score: 0.000\tlocal average Score: 0.000\tCurrent Score: 0.000\tScores : 0.000 -0.010\n",
      "Episode: 200\tAverage Score: 0.002\tlocal average Score: 0.004\tCurrent Score: 0.000\tScores : -0.010 0.000\n",
      "Episode: 250\tAverage Score: 0.002\tlocal average Score: 0.000\tCurrent Score: 0.000\tScores : 0.000 -0.010\n",
      "Episode: 300\tAverage Score: 0.000\tlocal average Score: 0.000\tCurrent Score: 0.000\tScores : 0.000 -0.010\n",
      "Episode: 350\tAverage Score: 0.000\tlocal average Score: 0.000\tCurrent Score: 0.000\tScores : 0.000 -0.010\n",
      "Episode: 400\tAverage Score: 0.000\tlocal average Score: 0.000\tCurrent Score: 0.000\tScores : -0.010 0.000\n",
      "Episode: 450\tAverage Score: 0.000\tlocal average Score: 0.000\tCurrent Score: 0.000\tScores : -0.010 0.000\n",
      "Episode: 500\tAverage Score: 0.000\tlocal average Score: 0.000\tCurrent Score: 0.000\tScores : 0.000 -0.010\n",
      "Episode: 550\tAverage Score: 0.000\tlocal average Score: 0.000\tCurrent Score: 0.000\tScores : -0.010 0.000\n",
      "Episode: 600\tAverage Score: 0.008\tlocal average Score: 0.015\tCurrent Score: 0.100\tScores : 0.100 -0.010\n",
      "Episode: 650\tAverage Score: 0.026\tlocal average Score: 0.036\tCurrent Score: 0.000\tScores : -0.010 0.000\n",
      "Episode: 700\tAverage Score: 0.053\tlocal average Score: 0.070\tCurrent Score: 0.090\tScores : 0.000 0.090\n",
      "Episode: 750\tAverage Score: 0.082\tlocal average Score: 0.094\tCurrent Score: 0.000\tScores : -0.010 0.000\n",
      "Episode: 800\tAverage Score: 0.107\tlocal average Score: 0.120\tCurrent Score: 0.000\tScores : -0.010 0.000\n",
      "Episode: 850\tAverage Score: 0.325\tlocal average Score: 0.529\tCurrent Score: 0.100\tScores : -0.010 0.100\n",
      "Episode: 900\tAverage Score: 0.456\tlocal average Score: 0.383\tCurrent Score: 0.100\tScores : 0.100 -0.010\n",
      "Episode: 950\tAverage Score: 0.413\tlocal average Score: 0.444\tCurrent Score: 0.100\tScores : -0.010 0.100\n",
      "Episode: 1000\tAverage Score: 0.405\tlocal average Score: 0.367\tCurrent Score: 0.300\tScores : 0.300 0.190\n",
      "Episode: 1050\tAverage Score: 0.419\tlocal average Score: 0.471\tCurrent Score: 0.300\tScores : 0.300 0.290\n",
      "\n",
      "Environment solved in 964 episodes!\tAverage Score: 0.501\n"
     ]
    }
   ],
   "source": [
    "scores = maddpg(agent, env, max_t=1000, window_size=100, score_threshold=0.5, print_interval=100, episodes=5000)"
   ]
  },
  {
   "attachments": {},
   "cell_type": "markdown",
   "metadata": {},
   "source": [
    "### 7. Plot results"
   ]
  },
  {
   "cell_type": "code",
   "execution_count": 3,
   "metadata": {},
   "outputs": [
    {
     "data": {
      "image/png": "[encoded data removed]",
      "text/plain": [
       "<Figure size 432x288 with 1 Axes>"
      ]
     },
     "metadata": {
      "needs_background": "light"
     },
     "output_type": "display_data"
    }
   ],
   "source": [
    "# Create a figure and axis for plotting\n",
    "fig = plt.figure()\n",
    "ax = fig.add_subplot(111)\n",
    "# Plot the scores over episodes\n",
    "plt.plot(np.arange(len(scores)), scores)\n",
    "\n",
    "# Set labels for the axes\n",
    "plt.ylabel('Score')\n",
    "plt.xlabel('Episode #')\n",
    "\n",
    "# Save the plot as an image file\n",
    "plt.savefig('maddpg_scores_plot_curve.png')\n",
    "\n",
    "# Show the plot\n",
    "plt.show()"
   ]
  },
  {
   "attachments": {},
   "cell_type": "markdown",
   "metadata": {},
   "source": [
    "### 7. Run Inference mode"
   ]
  },
  {
   "cell_type": "code",
   "execution_count": 12,
   "metadata": {},
   "outputs": [
    {
     "data": {
      "text/plain": [
       "<All keys matched successfully>"
      ]
     },
     "execution_count": 12,
     "metadata": {},
     "output_type": "execute_result"
    }
   ],
   "source": [
    "agent = MaddpgAgent(state_size=state_size, action_size=action_size,random_seed=0)\n",
    "agent.actor_local.load_state_dict(torch.load('checkpoint_actor_2_agents.pth'))\n",
    "agent.critic_local.load_state_dict(torch.load('checkpoint_critic_2_agents.pth'))"
   ]
  },
  {
   "cell_type": "code",
   "execution_count": 13,
   "metadata": {},
   "outputs": [
    {
     "name": "stdout",
     "output_type": "stream",
     "text": [
      "Score: 0.8950000135228038\n"
     ]
    }
   ],
   "source": [
    "env_info = env.reset(train_mode=False)[brain_name]   \n",
    "states = env_info.vector_observations                  \n",
    "scores = np.zeros(num_agents)                         \n",
    "step = 0\n",
    "while step<1000:\n",
    "    step+=1\n",
    "    actions = agent.act(states)                   \n",
    "    env_info = env.step(actions)[brain_name]\n",
    "    next_states = env_info.vector_observations\n",
    "    rewards = env_info.rewards\n",
    "    dones = env_info.local_done\n",
    "    rewards = env_info.rewards               \n",
    "    done = env_info.local_done                  \n",
    "    scores += rewards                                \n",
    "    states = next_states                     \n",
    "    if np.any(dones):\n",
    "        break\n",
    "    \n",
    "print(\"Score: {}\".format(np.mean(scores)))"
   ]
  },
  {
   "cell_type": "code",
   "execution_count": 14,
   "metadata": {},
   "outputs": [],
   "source": [
    "env.close()"
   ]
  },
  {
   "cell_type": "code",
   "execution_count": null,
   "metadata": {},
   "outputs": [],
   "source": []
  }
 ],
 "metadata": {
  "kernelspec": {
   "display_name": "drlnd",
   "language": "python",
   "name": "python3"
  },
  "language_info": {
   "codemirror_mode": {
    "name": "ipython",
    "version": 3
   },
   "file_extension": ".py",
   "mimetype": "text/x-python",
   "name": "python",
   "nbconvert_exporter": "python",
   "pygments_lexer": "ipython3",
   "version": "3.6.15"
  },
  "vscode": {
   "interpreter": {
    "hash": "39e381cf46b1f55053a25401b9ec0a7bf444799a815663fc9f4e7190e64d6089"
   }
  }
 },
 "nbformat": 4,
 "nbformat_minor": 2
}
