{
 "cells": [
  {
   "cell_type": "markdown",
   "metadata": {},
   "source": [
    "# Continuous Control\n",
    "\n",
    "---"
   ]
  },
  {
   "cell_type": "markdown",
   "metadata": {},
   "source": [
    "## Import libraries"
   ]
  },
  {
   "cell_type": "code",
   "execution_count": 1,
   "metadata": {},
   "outputs": [],
   "source": [
    "#!pip -q install ./python"
   ]
  },
  {
   "cell_type": "code",
   "execution_count": 1,
   "metadata": {},
   "outputs": [
    {
     "data": {
      "text/plain": [
       "True"
      ]
     },
     "execution_count": 1,
     "metadata": {},
     "output_type": "execute_result"
    }
   ],
   "source": [
    "import torch\n",
    "from unityagents import UnityEnvironment\n",
    "import numpy as np\n",
    "from collections import deque\n",
    "import matplotlib.pyplot as plt\n",
    "%matplotlib inline\n",
    "\n",
    "from ddpg_agent import Agent\n",
    "from ddpg_agents import Agents\n",
    "device = torch.device(\"cuda:0\" if torch.cuda.is_available() else \"cpu\")\n",
    "torch.cuda.is_available()"
   ]
  },
  {
   "cell_type": "markdown",
   "metadata": {},
   "source": [
    "### 1. Start the Environment\n"
   ]
  },
  {
   "cell_type": "code",
   "execution_count": 2,
   "metadata": {},
   "outputs": [
    {
     "name": "stderr",
     "output_type": "stream",
     "text": [
      "INFO:unityagents:\n",
      "'Academy' started successfully!\n",
      "Unity Academy name: Academy\n",
      "        Number of Brains: 1\n",
      "        Number of External Brains : 1\n",
      "        Lesson number : 0\n",
      "        Reset Parameters :\n",
      "\t\tgoal_speed -> 1.0\n",
      "\t\tgoal_size -> 5.0\n",
      "Unity brain name: ReacherBrain\n",
      "        Number of Visual Observations (per agent): 0\n",
      "        Vector Observation space type: continuous\n",
      "        Vector Observation space size (per agent): 33\n",
      "        Number of stacked Vector Observation: 1\n",
      "        Vector Action space type: continuous\n",
      "        Vector Action space size (per agent): 4\n",
      "        Vector Action descriptions: , , , \n"
     ]
    }
   ],
   "source": [
    "\n",
    "env = UnityEnvironment(file_name='Reacher_Windows_x86_64_20\\Reacher.exe')"
   ]
  },
  {
   "cell_type": "markdown",
   "metadata": {},
   "source": [
    "Environments contain **_brains_** which are responsible for deciding the actions of their associated agents. Here we check for the first brain available, and set it as the default brain we will be controlling from Python."
   ]
  },
  {
   "cell_type": "code",
   "execution_count": 3,
   "metadata": {},
   "outputs": [],
   "source": [
    "# get the default brain\n",
    "brain_name = env.brain_names[0]\n",
    "brain = env.brains[brain_name]"
   ]
  },
  {
   "cell_type": "markdown",
   "metadata": {},
   "source": [
    "### 2. Examine the State and Action Spaces\n",
    "\n",
    "In this environment, a double-jointed arm can move to target locations. A reward of `+0.1` is provided for each step that the agent's hand is in the goal location. Thus, the goal of your agent is to maintain its position at the target location for as many time steps as possible.\n",
    "\n",
    "The observation space consists of `33` variables corresponding to position, rotation, velocity, and angular velocities of the arm.  Each action is a vector with four numbers, corresponding to torque applicable to two joints.  Every entry in the action vector must be a number between `-1` and `1`.\n",
    "\n",
    "Run the code cell below to print some information about the environment."
   ]
  },
  {
   "cell_type": "code",
   "execution_count": 4,
   "metadata": {},
   "outputs": [
    {
     "name": "stdout",
     "output_type": "stream",
     "text": [
      "Number of agents: 20\n",
      "Size of each action: 4\n",
      "There are 20 agents. Each observes a state with length: 33\n",
      "The state for the first agent looks like: [ 0.00000000e+00 -4.00000000e+00  0.00000000e+00  1.00000000e+00\n",
      " -0.00000000e+00 -0.00000000e+00 -4.37113883e-08  0.00000000e+00\n",
      "  0.00000000e+00  0.00000000e+00  0.00000000e+00  0.00000000e+00\n",
      "  0.00000000e+00  0.00000000e+00 -1.00000000e+01  0.00000000e+00\n",
      "  1.00000000e+00 -0.00000000e+00 -0.00000000e+00 -4.37113883e-08\n",
      "  0.00000000e+00  0.00000000e+00  0.00000000e+00  0.00000000e+00\n",
      "  0.00000000e+00  0.00000000e+00  5.75471878e+00 -1.00000000e+00\n",
      "  5.55726624e+00  0.00000000e+00  1.00000000e+00  0.00000000e+00\n",
      " -1.68164849e-01]\n"
     ]
    }
   ],
   "source": [
    "# reset the environment\n",
    "env_info = env.reset(train_mode=True)[brain_name]\n",
    "\n",
    "# number of agents\n",
    "num_agents = len(env_info.agents)\n",
    "print('Number of agents:', num_agents)\n",
    "\n",
    "# size of each action\n",
    "action_size = brain.vector_action_space_size\n",
    "print('Size of each action:', action_size)\n",
    "\n",
    "# examine the state space \n",
    "states = env_info.vector_observations\n",
    "state_size = states.shape[1]\n",
    "print('There are {} agents. Each observes a state with length: {}'.format(states.shape[0], state_size))\n",
    "print('The state for the first agent looks like:', states[0])"
   ]
  },
  {
   "cell_type": "markdown",
   "metadata": {},
   "source": [
    "### 3. Train 20 Agents in the Environment"
   ]
  },
  {
   "cell_type": "code",
   "execution_count": 5,
   "metadata": {},
   "outputs": [],
   "source": [
    "# env.seed(10)\n",
    "random_seed = 10\n",
    "agents = Agents(state_size=state_size, action_size=action_size, random_seed=random_seed)"
   ]
  },
  {
   "cell_type": "code",
   "execution_count": 7,
   "metadata": {},
   "outputs": [],
   "source": [
    "def ddpg(agent, brain_name, n_episodes=2000, max_t=1000, window_size=100, score_threshold=30.0, print_interval=10):\n",
    "    \"\"\"\n",
    "    Deep Deterministic Policy Gradient (DDPG) training loop.\n",
    "\n",
    "    Args:\n",
    "    - agent: the DDPG agent\n",
    "    - brain_name: the name of the brain associated with the environment\n",
    "    - n_episodes: maximum number of training episodes (default=2000)\n",
    "    - max_t: maximum number of timesteps per episode (default=1000)\n",
    "    - window_size: size of the moving window to calculate the average score (default=100)\n",
    "    - score_threshold: the average score threshold for considering the environment solved (default=30.0)\n",
    "    - print_interval: interval for printing the training progress (default=10)\n",
    "\n",
    "    Returns:\n",
    "    - scores: list of scores obtained during training\n",
    "\n",
    "    This function performs the DDPG training loop for the given agent and environment.\n",
    "    It trains the agent for a maximum number of episodes, with a maximum number of timesteps per episode.\n",
    "    The training progress is printed at regular intervals, and the function returns the list of scores obtained during training.\n",
    "    \"\"\"\n",
    "    # Initialize variables\n",
    "    scores_deque = deque(maxlen=window_size) # A deque is a double-ended queue that allows efficient appending and popping of elements\n",
    "    scores = [] # List to store the scores obtained during training\n",
    "    max_score = -np.inf # Initialize the maximum score seen so far to negative infinity\n",
    "    \n",
    "    # Loop over episodes\n",
    "    for i_episode in range(1, n_episodes+1):\n",
    "        \n",
    "        # Reset the environment and get the initial state\n",
    "        env_info = env.reset(train_mode=True)[brain_name]\n",
    "        states = env_info.vector_observations\n",
    "        \n",
    "        # Reset the agent and initialize the episode score\n",
    "        agent.reset()\n",
    "        episode_scores = np.zeros(num_agents)\n",
    "        \n",
    "        # Loop over timesteps within the episode\n",
    "        for _ in range(max_t):\n",
    "            # Choose an action based on the current state\n",
    "            actions = agent.act(states)\n",
    "            # Take a step in the environment based on the chosen action\n",
    "            env_info = env.step(actions)[brain_name]\n",
    "            # Get the next state, reward, and done flag\n",
    "            next_states = env_info.vector_observations\n",
    "            rewards = env_info.rewards\n",
    "            dones = env_info.local_done\n",
    "\n",
    "            # Update the agent based on the experience tuple\n",
    "            agent.step(states=states, actions=actions, rewards=rewards, next_states=next_states, dones=dones)\n",
    "            # Update the episode score and current state\n",
    "            episode_scores += np.array(rewards)\n",
    "            states = next_states\n",
    "            # Exit the loop if done\n",
    "            if np.any(dones):\n",
    "                break\n",
    "\n",
    "        # Calculate the episode score and update the scores lists\n",
    "        episode_score = np.mean(episode_scores)\n",
    "        scores_deque.append(episode_score)\n",
    "        scores.append(episode_score)\n",
    "        average_score = np.mean(scores_deque)\n",
    "\n",
    "        # Print the training progress at regular intervals\n",
    "        print('\\rEpisode: {}\\tAverage Score: {:.2f}\\tCurrent Score: {:.2f}'.format(i_episode, average_score, episode_score), end=\"\")\n",
    "        if i_episode % print_interval == 0:\n",
    "            print('\\rEpisode: {}\\tAverage Score: {:.2f}\\tCurrent Score: {:.2f}'.format(i_episode, average_score, episode_score))\n",
    "\n",
    "        # Save the agent's weights if the environment is considered solved\n",
    "        if average_score >= score_threshold:\n",
    "            print('\\nEnvironment solved in {} episodes!\\tAverage Score: {:.2f}'.format(i_episode-window_size, average_score))\n",
    "            torch.save(agent.actor_local.state_dict(), 'checkpoint_actor_20_agents.pth')\n",
    "            torch.save(agent.critic_local.state_dict(), 'checkpoint_critic_20_agents.pth')\n",
    "            break\n",
    "\n",
    "    # Save the scores and close the environment\n",
    "    np.save('scores.npy', scores)\n",
    "    env.close()\n",
    "    \n",
    "    # Return the scores obtained during training\n",
    "    return scores"
   ]
  },
  {
   "cell_type": "code",
   "execution_count": 17,
   "metadata": {},
   "outputs": [
    {
     "name": "stdout",
     "output_type": "stream",
     "text": [
      "Episode: 10\tAverage Score: 0.61\tCurrent Score: 1.28\n",
      "Episode: 20\tAverage Score: 0.99\tCurrent Score: 1.72\n",
      "Episode: 30\tAverage Score: 1.96\tCurrent Score: 4.80\n",
      "Episode: 40\tAverage Score: 2.70\tCurrent Score: 6.37\n",
      "Episode: 50\tAverage Score: 3.46\tCurrent Score: 6.18\n",
      "Episode: 60\tAverage Score: 4.12\tCurrent Score: 8.09\n",
      "Episode: 70\tAverage Score: 4.82\tCurrent Score: 9.26\n",
      "Episode: 80\tAverage Score: 5.64\tCurrent Score: 11.69\n",
      "Episode: 90\tAverage Score: 6.42\tCurrent Score: 13.83\n",
      "Episode: 100\tAverage Score: 7.23\tCurrent Score: 13.88\n",
      "Episode: 110\tAverage Score: 8.81\tCurrent Score: 17.96\n",
      "Episode: 120\tAverage Score: 10.46\tCurrent Score: 17.57\n",
      "Episode: 130\tAverage Score: 11.87\tCurrent Score: 18.03\n",
      "Episode: 140\tAverage Score: 13.28\tCurrent Score: 18.97\n",
      "Episode: 150\tAverage Score: 14.85\tCurrent Score: 22.62\n",
      "Episode: 160\tAverage Score: 16.38\tCurrent Score: 24.11\n",
      "Episode: 170\tAverage Score: 17.98\tCurrent Score: 25.81\n",
      "Episode: 180\tAverage Score: 19.66\tCurrent Score: 30.57\n",
      "Episode: 190\tAverage Score: 21.32\tCurrent Score: 29.21\n",
      "Episode: 200\tAverage Score: 22.76\tCurrent Score: 29.75\n",
      "Episode: 210\tAverage Score: 24.12\tCurrent Score: 31.26\n",
      "Episode: 220\tAverage Score: 25.40\tCurrent Score: 32.86\n",
      "Episode: 230\tAverage Score: 26.68\tCurrent Score: 29.66\n",
      "Episode: 240\tAverage Score: 28.00\tCurrent Score: 32.30\n",
      "Episode: 250\tAverage Score: 28.95\tCurrent Score: 32.91\n",
      "Episode: 260\tAverage Score: 29.82\tCurrent Score: 33.41\n",
      "Episode: 263\tAverage Score: 30.07\tCurrent Score: 31.81\n",
      "Environment solved in 163 episodes!\tAverage Score: 30.07\n"
     ]
    }
   ],
   "source": [
    "# Start training the DDPG agent for a maximum number of episodes, with a maximum number of timesteps per episode.\n",
    "\n",
    "scores = ddpg(agents, brain_name, n_episodes=2000, max_t = 1000, window_size=100, score_threshold=30.0, print_interval=10)"
   ]
  },
  {
   "cell_type": "code",
   "execution_count": 18,
   "metadata": {},
   "outputs": [
    {
     "data": {
      "image/png": "[encoded data removed]",
      "text/plain": [
       "<Figure size 432x288 with 1 Axes>"
      ]
     },
     "metadata": {
      "needs_background": "light"
     },
     "output_type": "display_data"
    }
   ],
   "source": [
    "# Create a figure and axis for plotting\n",
    "fig = plt.figure()\n",
    "ax = fig.add_subplot(111)\n",
    "\n",
    "# Plot the scores over episodes\n",
    "plt.plot(np.arange(len(scores)), scores)\n",
    "\n",
    "# Set labels for the axes\n",
    "plt.ylabel('Score')\n",
    "plt.xlabel('Episode #')\n",
    "\n",
    "# Save the plot as an image file\n",
    "plt.savefig('ddpg_scores.png', bbox_inches='tight')\n",
    "\n",
    "# Show the plot\n",
    "plt.show()"
   ]
  },
  {
   "cell_type": "code",
   "execution_count": 8,
   "metadata": {},
   "outputs": [
    {
     "data": {
      "text/plain": [
       "<All keys matched successfully>"
      ]
     },
     "execution_count": 8,
     "metadata": {},
     "output_type": "execute_result"
    }
   ],
   "source": [
    "agent = Agents(state_size=state_size, action_size=action_size, random_seed=random_seed)\n",
    "agent.actor_local.load_state_dict(torch.load('checkpoint_actor_20_agents.pth'))\n",
    "agent.critic_local.load_state_dict(torch.load('checkpoint_critic_20_agents.pth'))"
   ]
  },
  {
   "cell_type": "code",
   "execution_count": 9,
   "metadata": {},
   "outputs": [
    {
     "name": "stdout",
     "output_type": "stream",
     "text": [
      "Score: 32.60149927129969\n"
     ]
    }
   ],
   "source": [
    "env_info = env.reset(train_mode=False)[brain_name]     # reset the environment    \n",
    "states = env_info.vector_observations                  # get the current state (for each agent)\n",
    "scores = np.zeros(num_agents)                          # initialize the score (for each agent)\n",
    "step = 0\n",
    "while step<1000:\n",
    "    step+=1\n",
    "    actions = agent.act(states)                      # select an action\n",
    "    env_info = env.step(actions)[brain_name]\n",
    "    next_states = env_info.vector_observations\n",
    "    rewards = env_info.rewards\n",
    "    dones = env_info.local_done\n",
    "    rewards = env_info.rewards                   # get the reward\n",
    "    done = env_info.local_done                  # see if episode has finished\n",
    "    scores += rewards                                # update the score\n",
    "    states = next_states                             # roll over the state to next time step\n",
    "    if np.any(dones):\n",
    "        break\n",
    "    \n",
    "print(\"Score: {}\".format(np.mean(scores)))"
   ]
  },
  {
   "cell_type": "code",
   "execution_count": 10,
   "metadata": {},
   "outputs": [],
   "source": [
    "env.close()"
   ]
  },
  {
   "cell_type": "code",
   "execution_count": null,
   "metadata": {},
   "outputs": [],
   "source": []
  }
 ],
 "metadata": {
  "kernelspec": {
   "display_name": "Python 3",
   "language": "python",
   "name": "python3"
  },
  "language_info": {
   "codemirror_mode": {
    "name": "ipython",
    "version": 3
   },
   "file_extension": ".py",
   "mimetype": "text/x-python",
   "name": "python",
   "nbconvert_exporter": "python",
   "pygments_lexer": "ipython3",
   "version": "3.6.13"
  }
 },
 "nbformat": 4,
 "nbformat_minor": 2
}
